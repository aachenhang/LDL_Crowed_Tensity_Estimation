{
 "cells": [
  {
   "cell_type": "code",
   "execution_count": 28,
   "metadata": {},
   "outputs": [],
   "source": [
    "import lmdb\n",
    "from os.path import join\n",
    "import os\n",
    "import caffe\n",
    "import numpy as np\n",
    "import hashlib\n",
    "from collections import OrderedDict\n",
    "import re"
   ]
  },
  {
   "cell_type": "code",
   "execution_count": 29,
   "metadata": {},
   "outputs": [],
   "source": [
    "db_path_train = join('/home/aachenhang/dataset/cc/data', 'ExpoDB', 'Ratio0.4', 'train-count')\n",
    "db_path_test = join('/home/aachenhang/dataset/cc/data', 'ExpoDB', 'Ratio0.4', 'test-count')"
   ]
  },
  {
   "cell_type": "code",
   "execution_count": 30,
   "metadata": {},
   "outputs": [],
   "source": [
    "def is_image(im):\n",
    "    return ('.jpg' in im) or ('.JPG' in im) or ('.PNG' in im) or ('.png' in im)"
   ]
  },
  {
   "cell_type": "code",
   "execution_count": 31,
   "metadata": {},
   "outputs": [],
   "source": [
    "train_list = [img for img in os.listdir(join('/home/aachenhang/dataset/frames_Expo', 'train_frame')) if is_image(img)]\n",
    "assert (len(train_list) != 0)\n",
    "\n",
    "test_list = [img for img in os.listdir('/home/aachenhang/dataset/frames_Expo/test/') if is_image(img)]\n",
    "assert (len(test_list) != 0)\n",
    "#Shuffle the train set\n",
    "img_hash = {hashlib.md5(img).hexdigest(): img for img in train_list}\n",
    "img_hash = OrderedDict(sorted(img_hash.items()))\n",
    "train_list = img_hash.values()\n",
    "\n",
    "#Shuffle the test set\n",
    "img_hash = {hashlib.md5(img).hexdigest(): img for img in test_list}\n",
    "img_hash = OrderedDict(sorted(img_hash.items()))\n",
    "test_list = img_hash.values()"
   ]
  },
  {
   "cell_type": "code",
   "execution_count": 32,
   "metadata": {},
   "outputs": [
    {
     "name": "stdout",
     "output_type": "stream",
     "text": [
      "minCount :  0\n",
      "scale :  3.34\n"
     ]
    }
   ],
   "source": [
    "train_cnt = np.array([])\n",
    "minCount = 0\n",
    "scale = 1\n",
    "tol = 2\n",
    "\n",
    "with open(join('/home/aachenhang/dataset/cc', 'data','ExpoDB', 'Ratio0.4','db.info')) as db_info:\n",
    "    l = db_info.readlines()[1].split(',')  \n",
    "    minCount = int(re.sub(\"[^0-9]\", \"\", l[2]))\n",
    "    scale = float(re.sub(\"[^0-9\\.]\", \"\", l[-1]))\n",
    "print \"minCount : \", minCount\n",
    "print \"scale : \", scale"
   ]
  },
  {
   "cell_type": "code",
   "execution_count": 33,
   "metadata": {},
   "outputs": [
    {
     "name": "stdout",
     "output_type": "stream",
     "text": [
      "db_train pass\n"
     ]
    }
   ],
   "source": [
    "with lmdb.open(db_path_train, map_size=int(1e12)) as db_train:\n",
    "    in_txn = db_train.begin(write=False)\n",
    "    IDX_FMT = '{:0>%d' % 10 + 'd}'\n",
    "    datum = caffe.proto.caffe_pb2.Datum()\n",
    "    for i, img in enumerate(train_list):\n",
    "        datum.ParseFromString(in_txn.get(IDX_FMT.format(i)))\n",
    "        arr = caffe.io.datum_to_array(datum)\n",
    "        pred = arr[:,0,0].argsort()[-1] + minCount\n",
    "        pred = scale * pred\n",
    "        label = int(re.sub(\"[^0-9]\", \"\", img.split('n')[-1]))\n",
    "        if(abs(pred - label) > tol):\n",
    "            print \"found error data!\"\n",
    "            print \"index : \", i\n",
    "            print \"img name : \", img\n",
    "            print \"pred : \", pred\n",
    "            print \"label : \", label\n",
    "            raise Exception(\"Found error data!\")\n",
    "    print \"db_train pass\""
   ]
  },
  {
   "cell_type": "code",
   "execution_count": null,
   "metadata": {},
   "outputs": [],
   "source": []
  },
  {
   "cell_type": "code",
   "execution_count": 34,
   "metadata": {},
   "outputs": [
    {
     "name": "stdout",
     "output_type": "stream",
     "text": [
      "db_test pass\n"
     ]
    }
   ],
   "source": [
    "with lmdb.open(db_path_test, map_size=int(1e12)) as db_test:\n",
    "    in_txn = db_test.begin(write=False)\n",
    "    IDX_FMT = '{:0>%d' % 10 + 'd}'\n",
    "    datum = caffe.proto.caffe_pb2.Datum()\n",
    "    for i, img in enumerate(test_list):\n",
    "        datum.ParseFromString(in_txn.get(IDX_FMT.format(i)))\n",
    "        arr = caffe.io.datum_to_array(datum)\n",
    "        pred = arr[:,0,0].argsort()[-1] + minCount\n",
    "        pred = scale * pred\n",
    "        label = int(re.sub(\"[^0-9]\", \"\", img.split('n')[-1]))\n",
    "        if(abs(pred - label) > tol):\n",
    "            print \"found error data!\"\n",
    "            print \"index : \", i\n",
    "            print \"img name : \", img\n",
    "            print \"pred : \", pred\n",
    "            print \"label : \", label\n",
    "            raise Exception(\"Found error data!\")\n",
    "    print \"db_test pass\"\n",
    "        "
   ]
  },
  {
   "cell_type": "code",
   "execution_count": null,
   "metadata": {},
   "outputs": [],
   "source": [
    "\n"
   ]
  },
  {
   "cell_type": "code",
   "execution_count": null,
   "metadata": {},
   "outputs": [],
   "source": []
  },
  {
   "cell_type": "code",
   "execution_count": null,
   "metadata": {},
   "outputs": [],
   "source": []
  },
  {
   "cell_type": "code",
   "execution_count": null,
   "metadata": {},
   "outputs": [],
   "source": []
  },
  {
   "cell_type": "code",
   "execution_count": null,
   "metadata": {},
   "outputs": [],
   "source": []
  },
  {
   "cell_type": "code",
   "execution_count": null,
   "metadata": {},
   "outputs": [],
   "source": []
  }
 ],
 "metadata": {
  "kernelspec": {
   "display_name": "Python 2.7",
   "language": "python",
   "name": "py2.7"
  },
  "language_info": {
   "codemirror_mode": {
    "name": "ipython",
    "version": 2
   },
   "file_extension": ".py",
   "mimetype": "text/x-python",
   "name": "python",
   "nbconvert_exporter": "python",
   "pygments_lexer": "ipython2",
   "version": "2.7.14"
  }
 },
 "nbformat": 4,
 "nbformat_minor": 2
}
