{
 "cells": [
  {
   "cell_type": "code",
   "execution_count": 166,
   "metadata": {},
   "outputs": [],
   "source": [
    "import lmdb\n",
    "from os.path import join\n",
    "import os\n",
    "import caffe\n",
    "import numpy as np\n",
    "import hashlib\n",
    "from collections import OrderedDict\n",
    "import re"
   ]
  },
  {
   "cell_type": "code",
   "execution_count": 167,
   "metadata": {},
   "outputs": [],
   "source": [
    "db_path_train = join('/home/aachenhang/dataset/cc/data', 'ShanghaiTech_BDB', 'Ratio0.56', 'train-count')\n",
    "db_path_test = join('/home/aachenhang/dataset/cc/data', 'ShanghaiTech_BDB', 'Ratio0.56', 'test-count')"
   ]
  },
  {
   "cell_type": "code",
   "execution_count": 168,
   "metadata": {},
   "outputs": [],
   "source": [
    "def is_image(im):\n",
    "    return ('.jpg' in im) or ('.JPG' in im) or ('.PNG' in im) or ('.png' in im)\n",
    "data = join('/home/aachenhang/dataset', 'frames_ShanghaiTech_B')"
   ]
  },
  {
   "cell_type": "code",
   "execution_count": 169,
   "metadata": {},
   "outputs": [],
   "source": [
    "img_list = [img for img in os.listdir(data) if is_image(img)]\n",
    "assert (len(img_list) != 0)\n",
    "img_list = sorted(img_list)"
   ]
  },
  {
   "cell_type": "code",
   "execution_count": 170,
   "metadata": {},
   "outputs": [
    {
     "name": "stdout",
     "output_type": "stream",
     "text": [
      "minCount :  2\n",
      "scale :  5.78\n"
     ]
    }
   ],
   "source": [
    "NTrain = 400\n",
    "NTest = 316\n",
    "tol = 3\n",
    "\n",
    "train_list = img_list[:NTrain]\n",
    "assert (len(train_list) != 0)\n",
    "\n",
    "test_list = img_list[NTrain:NTrain + NTest]\n",
    "assert (len(test_list) != 0)\n",
    "\n",
    "\n",
    "train_cnt = np.array([])\n",
    "minCount = 0\n",
    "scale = 1\n",
    "with open(join('/home/aachenhang/dataset/cc', 'data','ShanghaiTech_BDB', 'Ratio0.56','db.info')) as db_info:\n",
    "    l = db_info.readlines()[1].split(',')  \n",
    "    minCount = int(re.sub(\"[^0-9]\", \"\", l[2]))\n",
    "    scale = float(re.sub(\"[^0-9\\.]\", \"\", l[-1]))\n",
    "print \"minCount : \", minCount\n",
    "print \"scale : \", scale\n",
    "\n"
   ]
  },
  {
   "cell_type": "code",
   "execution_count": 171,
   "metadata": {},
   "outputs": [
    {
     "name": "stdout",
     "output_type": "stream",
     "text": [
      "found error data!\n",
      "index :  0\n",
      "img name :  seq_0001n234.jpg\n",
      "pred :  231.2\n",
      "label :  234\n"
     ]
    },
    {
     "ename": "Exception",
     "evalue": "Found error data!",
     "output_type": "error",
     "traceback": [
      "\u001b[0;31m---------------------------------------------------------------------------\u001b[0m",
      "\u001b[0;31mException\u001b[0m                                 Traceback (most recent call last)",
      "\u001b[0;32m<ipython-input-171-55131883e098>\u001b[0m in \u001b[0;36m<module>\u001b[0;34m()\u001b[0m\n\u001b[1;32m     15\u001b[0m             \u001b[0;32mprint\u001b[0m \u001b[0;34m\"pred : \"\u001b[0m\u001b[0;34m,\u001b[0m \u001b[0mpred\u001b[0m\u001b[0;34m\u001b[0m\u001b[0m\n\u001b[1;32m     16\u001b[0m             \u001b[0;32mprint\u001b[0m \u001b[0;34m\"label : \"\u001b[0m\u001b[0;34m,\u001b[0m \u001b[0mlabel\u001b[0m\u001b[0;34m\u001b[0m\u001b[0m\n\u001b[0;32m---> 17\u001b[0;31m             \u001b[0;32mraise\u001b[0m \u001b[0mException\u001b[0m\u001b[0;34m(\u001b[0m\u001b[0;34m\"Found error data!\"\u001b[0m\u001b[0;34m)\u001b[0m\u001b[0;34m\u001b[0m\u001b[0m\n\u001b[0m\u001b[1;32m     18\u001b[0m     \u001b[0;32mprint\u001b[0m \u001b[0;34m\"db_train pass\"\u001b[0m\u001b[0;34m\u001b[0m\u001b[0m\n\u001b[1;32m     19\u001b[0m \u001b[0;34m\u001b[0m\u001b[0m\n",
      "\u001b[0;31mException\u001b[0m: Found error data!"
     ]
    }
   ],
   "source": [
    "with lmdb.open(db_path_train, map_size=int(1e12)) as db_train:\n",
    "    in_txn = db_train.begin(write=False)\n",
    "    IDX_FMT = '{:0>%d' % 10 + 'd}'\n",
    "    datum = caffe.proto.caffe_pb2.Datum()\n",
    "    for i, img in enumerate(train_list):\n",
    "        datum.ParseFromString(in_txn.get(IDX_FMT.format(i)))\n",
    "        arr = caffe.io.datum_to_array(datum)\n",
    "        pred = arr[:,0,0].argsort()[-1] + minCount\n",
    "        pred = scale * pred\n",
    "        label = int(re.sub(\"[^0-9]\", \"\", img.split('n')[-1]))\n",
    "        if(abs(pred - label) > tol):\n",
    "            print \"found error data!\"\n",
    "            print \"index : \", i\n",
    "            print \"img name : \", img\n",
    "            print \"pred : \", pred\n",
    "            print \"label : \", label\n",
    "            raise Exception(\"Found error data!\")\n",
    "    print \"db_train pass\"\n",
    "        "
   ]
  },
  {
   "cell_type": "code",
   "execution_count": null,
   "metadata": {},
   "outputs": [],
   "source": [
    "with lmdb.open(db_path_test, map_size=int(1e12)) as db_test:\n",
    "    in_txn = db_test.begin(write=False)\n",
    "    IDX_FMT = '{:0>%d' % 10 + 'd}'\n",
    "    datum = caffe.proto.caffe_pb2.Datum()\n",
    "    for i, img in enumerate(test_list):\n",
    "        datum.ParseFromString(in_txn.get(IDX_FMT.format(i)))\n",
    "        arr = caffe.io.datum_to_array(datum)\n",
    "        pred = arr[:,0,0].argsort()[-1] + minCount\n",
    "        pred = scale * pred\n",
    "        label = int(re.sub(\"[^0-9]\", \"\", img.split('n')[-1]))\n",
    "        if(abs(pred - label) > tol):\n",
    "            print \"found error data!\"\n",
    "            print \"index : \", i\n",
    "            print \"img name : \", img\n",
    "            print \"pred : \", pred\n",
    "            print \"label : \", label\n",
    "            raise Exception(\"Found error data!\")\n",
    "    print \"db_test pass\"\n",
    "        "
   ]
  },
  {
   "cell_type": "code",
   "execution_count": null,
   "metadata": {},
   "outputs": [],
   "source": []
  },
  {
   "cell_type": "code",
   "execution_count": null,
   "metadata": {},
   "outputs": [],
   "source": []
  },
  {
   "cell_type": "code",
   "execution_count": null,
   "metadata": {},
   "outputs": [],
   "source": []
  },
  {
   "cell_type": "code",
   "execution_count": null,
   "metadata": {},
   "outputs": [],
   "source": []
  }
 ],
 "metadata": {
  "kernelspec": {
   "display_name": "Python 2.7",
   "language": "python",
   "name": "py2.7"
  },
  "language_info": {
   "codemirror_mode": {
    "name": "ipython",
    "version": 2
   },
   "file_extension": ".py",
   "mimetype": "text/x-python",
   "name": "python",
   "nbconvert_exporter": "python",
   "pygments_lexer": "ipython2",
   "version": "2.7.14"
  }
 },
 "nbformat": 4,
 "nbformat_minor": 2
}
